{
 "cells": [
  {
   "cell_type": "code",
   "execution_count": null,
   "metadata": {},
   "outputs": [],
   "source": [
    "#to create 5000 participants of fam file\n",
    "shuf -n 5000 target_qc_data.fam > rand.5000"
   ]
  },
  {
   "cell_type": "code",
   "execution_count": null,
   "metadata": {},
   "outputs": [],
   "source": [
    "chmod a+x ldak6.1.linux"
   ]
  },
  {
   "cell_type": "code",
   "execution_count": null,
   "metadata": {},
   "outputs": [],
   "source": [
    "#to calculate SNP-SNP correlation\n",
    "#bash\n",
    "./ldak6.1.linux --calc-cors cors \\\n",
    "  --bfile target_qc_data \\\n",
    "  --break-points berisa.txt \\\n",
    "  --keep rand.5000"
   ]
  },
  {
   "cell_type": "code",
   "execution_count": null,
   "metadata": {},
   "outputs": [],
   "source": [
    "library(data.table)\n",
    "\n",
    "ss <- fread(\"asd_beta.txt\")   # has CHR SNP BP A1 A2 INFO OR SE P beta\n",
    "\n",
    "# add Z = beta / SE (and drop non-finite)\n",
    "ss[, Z := beta / SE]\n",
    "ss <- ss[is.finite(Z)]\n",
    "\n",
    "ss[, N := 46351L]\n",
    "fwrite(ss, \"asd_beta_withz.txt\", sep = \"\\t\", quote = FALSE, na = \"NA\")"
   ]
  },
  {
   "cell_type": "code",
   "execution_count": null,
   "metadata": {},
   "outputs": [],
   "source": [
    "#to estimate effect sizes\n",
    "./ldak6.1.linux --mega-prs bayesr --summary asd_beta_withz.txt \\\n",
    "--cors cors --power -0.25 --check-sums NO --max-threads 8"
   ]
  },
  {
   "cell_type": "markdown",
   "metadata": {},
   "source": [
    "filter bayesr???\n",
    "awk '\n",
    "FNR==NR {\n",
    "  ref[$2]=toupper($5)\"|\"toupper($6)\n",
    "  ref_flip[$2]=toupper($6)\"|\"toupper($5)\n",
    "  next\n",
    "}\n",
    "FNR==1 { print; next }\n",
    "{\n",
    "  test=toupper($2)\"|\"toupper($3)\n",
    "  if (ref[$1]==test || ref_flip[$1]==test) print\n",
    "}\n",
    "' target_qc_data.bim bayesr.effects > bayesr.effects.filtered\n",
    "\n"
   ]
  },
  {
   "cell_type": "code",
   "execution_count": null,
   "metadata": {},
   "outputs": [],
   "source": [
    "# to create plink style co variate file\n",
    "library(data.table)\n",
    "\n",
    "x <- fread(\"covar_prs.csv\", na.strings=c(\"\", \"NA\"))\n",
    "stopifnot(\"eid\" %in% names(x))\n",
    "\n",
    "# helpers to find columns regardless of '-' vs '.' separator\n",
    "find <- function(rx) grep(rx, names(x), value = TRUE)\n",
    "\n",
    "sex_col <- find(\"^31[.-]0[.-]0$\")         # UKB sex\n",
    "age_col <- find(\"^21022[.-]0[.-]0$\")      # UKB age\n",
    "pc_cols <- find(\"^22009[.-]0[.-](?:[1-9]|10)$\")  # PCs 1..10\n",
    "\n",
    "# order PCs numerically, rename to PC1..PC10\n",
    "pc_num  <- as.integer(sub(\".*[.-]0[.-]\", \"\", pc_cols))\n",
    "pc_cols <- pc_cols[order(pc_num)]\n",
    "pc_names <- paste0(\"PC\", sort(pc_num))\n",
    "\n",
    "cov <- data.table(FID = x$eid, IID = x$eid)\n",
    "\n",
    "if (length(sex_col)==1) {\n",
    "  sex <- as.integer(x[[sex_col]])\n",
    "  # optional recode: UKB 1=male, 0/2=female in some extracts; normalize to 0/1\n",
    "  sex <- fifelse(sex %in% c(1,2), fifelse(sex==1, 1L, 0L), as.integer(sex))\n",
    "  cov[, Sex := sex]\n",
    "}\n",
    "if (length(age_col)==1) cov[, Age := as.numeric(x[[age_col]])]\n",
    "\n",
    "if (length(pc_cols)) {\n",
    "  pcs <- as.data.table(x[, ..pc_cols])\n",
    "  setnames(pcs, pc_names)\n",
    "  # force numeric\n",
    "  for (j in names(pcs)) set(pcs, j=j, value=as.numeric(pcs[[j]]))\n",
    "  cov <- cbind(cov, pcs)\n",
    "}\n",
    "\n",
    "fwrite(cov, \"ldak_covariates.cov\", sep=\"\\t\", quote=FALSE, na=\"NA\")"
   ]
  },
  {
   "cell_type": "code",
   "execution_count": null,
   "metadata": {},
   "outputs": [],
   "source": [
    "./ldak6.1.linux --linear linear_covar \\\n",
    "  --bfile target_qc_data \\\n",
    "  --pheno ukb_raw.pheno \\\n",
    "  --covar ldak_covariates.cov \\\n",
    "  --max-threads 8"
   ]
  },
  {
   "cell_type": "code",
   "execution_count": null,
   "metadata": {},
   "outputs": [],
   "source": [
    "cut -d' ' -f1,2 ldak_covariates.cov > ids_in_cov.txt"
   ]
  },
  {
   "cell_type": "code",
   "execution_count": null,
   "metadata": {},
   "outputs": [],
   "source": [
    "./ldak6.1.linux --calc-scores prs_chrono \\\n",
    "  --bfile target_qc_data \\\n",
    "  --scorefile bayesr.effects.filtered \\\n",
    "  --pheno ukb_raw.pheno \\\n",
    "  --covar ldak_covariates.cov \\\n",
    "  --coeffsfile linear_covar.coeff \\\n",
    "  --keep ids_in_cov.txt \\\n",
    "  --max-threads 8"
   ]
  },
  {
   "cell_type": "code",
   "execution_count": null,
   "metadata": {},
   "outputs": [],
   "source": [
    "#insomnia phenotype\n",
    "library(data.table)\n",
    "\n",
    "# 1) Read your CSV\n",
    "inso<- fread(\"insomnia_participant.csv\") \n",
    "\n",
    "setnames(inso, old = \"1200-0.0\", new = \"insomnia_raw\")\n",
    "\n",
    "# Quick look at coding\n",
    "table(inso$insomnia_raw, useNA = \"ifany\")\n",
    "\n",
    "miss_codes <- c(-1,-3,-7)\n",
    "inso[insomnia_raw %in% miss_codes, insomnia_raw := NA_integer_]\n",
    "\n",
    "#3 usually to cases, 1 never and 2 sometimes to control \n",
    "inso[, insomnia_bin := fifelse(insomnia_raw == 3L, 1L,\n",
    "                        fifelse(insomnia_raw %in% c(1L,2L), 0L, NA_integer_))]\n",
    "\n",
    " \n",
    " \n",
    " \n",
    " \n",
    "inso_pheno <- inso[, .(FID = eid, IID = eid, insomnia = insomnia_bin)]\n",
    "\n",
    "# Drop missing phenotype rows (optional but typical)\n",
    "inso_pheno <- inso_pheno[!is.na(insomnia)]\n",
    "\n",
    "# Save as tab-delimited text\n",
    "fwrite(inso_pheno, \"insomnia.pheno\", sep = \"\\t\", quote = FALSE, na = \"NA\")                       "
   ]
  },
  {
   "cell_type": "code",
   "execution_count": null,
   "metadata": {},
   "outputs": [],
   "source": [
    "./ldak6.1.linux --linear inso_covar \\\n",
    "  --bfile target_qc_data \\\n",
    "  --pheno insomnia.pheno \\\n",
    "  --covar ldak_covariates.cov \\\n",
    "  --max-threads 8"
   ]
  },
  {
   "cell_type": "code",
   "execution_count": null,
   "metadata": {},
   "outputs": [],
   "source": [
    "./ldak6.1.linux --calc-scores prs_inso \\\n",
    "  --bfile target_qc_data \\\n",
    "  --scorefile bayesr.effects.filtered \\\n",
    "  --pheno insomnia.pheno \\\n",
    "  --covar ldak_covariates.cov \\\n",
    "  --coeffsfile inso_covar.coeff \\\n",
    "  --keep ids_in_cov.txt \\\n",
    "  --max-threads 8"
   ]
  },
  {
   "cell_type": "code",
   "execution_count": null,
   "metadata": {},
   "outputs": [],
   "source": [
    "#snoring phenotype\n",
    "library(data.table)\n",
    "\n",
    "# 1) Read your CSV\n",
    "snor<- fread(\"snoring_participant.csv\") \n",
    "\n",
    "print(head(snor))\n",
    "\n",
    "setnames(snor, old = \"1210-0.0\", new = \"snoring_raw\")\n",
    "table(snor$snoring_raw, useNA = \"always\")\n",
    "\n",
    "miss_snor_codes <- c(-1,-3)\n",
    "snor[snoring_raw %in% miss_snor_codes, snoring_raw := NA_integer_]\n",
    "\n",
    "#1 has snoring, 2 has no snoring\n",
    "#new code 2->0, 1->1 \n",
    "snor[, snoring_bin := fifelse(snoring_raw == 1L, 1L,\n",
    "                       fifelse(snoring_raw == 2L, 0L, NA_integer_))]\n",
    "\n",
    "\n",
    "snor_pheno <- snor[!is.na(snoring_bin),\n",
    "              .(FID = eid, IID = eid, snoring = snoring_bin)]\n",
    "\n",
    "table(snor_pheno$snoring, useNA = \"always\")\n",
    "\n",
    "fwrite(snor_pheno, \"snoring.pheno\", sep = \"\\t\", quote = FALSE, na = \"NA\")"
   ]
  },
  {
   "cell_type": "code",
   "execution_count": null,
   "metadata": {},
   "outputs": [],
   "source": [
    "./ldak6.1.linux --linear snor_covar \\\n",
    "  --bfile target_qc_data \\\n",
    "  --pheno snoring.pheno \\\n",
    "  --covar ldak_covariates.cov \\\n",
    "  --max-threads 8"
   ]
  },
  {
   "cell_type": "code",
   "execution_count": null,
   "metadata": {},
   "outputs": [],
   "source": [
    "./ldak6.1.linux --calc-scores prs_snor \\\n",
    "  --bfile target_qc_data \\\n",
    "  --scorefile bayesr.effects.filtered \\\n",
    "  --pheno snoring.pheno \\\n",
    "  --covar ldak_covariates.cov \\\n",
    "  --coeffsfile snor_covar.coeff \\\n",
    "  --keep ids_in_cov.txt \\\n",
    "  --max-threads 8"
   ]
  },
  {
   "cell_type": "code",
   "execution_count": null,
   "metadata": {},
   "outputs": [],
   "source": [
    "#sleep duration phenotype\n",
    "library(data.table)\n",
    "\n",
    "# 1) Read your CSV\n",
    "dura<- fread(\"sleep_duration_pheno_participant.csv\")\n",
    "\n",
    "print(head(dura))\n",
    "\n",
    "setnames(dura, old = \"1160-0.0\", new = \"dura_raw\")\n",
    "table(dura$dura_raw, useNA = \"always\")\n",
    "\n",
    "miss_dura_codes <- c(-1,-3)\n",
    "dura[dura_raw %in% miss_dura_codes, dura_raw := NA_integer_]\n",
    "\n",
    "library(dplyr)\n",
    "dura<- dura %>%\n",
    "  filter(!is.na(dura$dura_raw))\n",
    "\n",
    "\n",
    "table(dura$dura_raw, useNA = \"always\")\n",
    "\n",
    "dura$duration_cat <- ifelse(\n",
    "  dura$dura_raw < 7, \"Short\", \n",
    "  ifelse(\n",
    "    dura$dura_raw >= 7 & dura$dura_raw <= 9, \"Optimal\", \n",
    "    ifelse(\n",
    "      dura$dura_raw > 9, \"Long\", \n",
    "      NA\n",
    "    )\n",
    "  )\n",
    ")\n",
    "\n",
    "table(dura$duration_cat, useNA = \"always\")\n",
    "\n",
    "dura[, duration_cat_clean := tolower(trimws(duration_cat))]\n",
    "\n",
    "dura[, duration_code := fcase(\n",
    "  duration_cat_clean == \"optimal\", 0L,\n",
    "  duration_cat_clean == \"short\",   1L,\n",
    "  duration_cat_clean == \"long\",    2L,\n",
    "  default = NA_integer_\n",
    ")]\n",
    "\n",
    "table(dura$duration_code, useNA = \"always\")\n",
    "\n",
    "dura_pheno <- dura[!is.na(duration_code),\n",
    "              .(FID = eid, IID = eid, sleep_duration = duration_code)]\n",
    "\n",
    "\n",
    " fwrite(dura_pheno, \"duration.pheno\", sep = \"\\t\", quote = FALSE, na = \"NA\")             \n"
   ]
  },
  {
   "cell_type": "code",
   "execution_count": null,
   "metadata": {},
   "outputs": [],
   "source": [
    "./ldak6.1.linux --linear duration_covar \\\n",
    "  --bfile target_qc_data \\\n",
    "  --pheno duration.pheno \\\n",
    "  --covar ldak_covariates.cov \\\n",
    "  --max-threads 8"
   ]
  },
  {
   "cell_type": "code",
   "execution_count": null,
   "metadata": {},
   "outputs": [],
   "source": [
    "./ldak6.1.linux --calc-scores prs_duration \\\n",
    "  --bfile target_qc_data \\\n",
    "  --scorefile bayesr.effects.filtered \\\n",
    "  --pheno duration.pheno \\\n",
    "  --covar ldak_covariates.cov \\\n",
    "  --coeffsfile duration_covar.coeff \\\n",
    "  --keep ids_in_cov.txt \\\n",
    "  --max-threads 8"
   ]
  },
  {
   "cell_type": "code",
   "execution_count": null,
   "metadata": {},
   "outputs": [],
   "source": [
    "./ldak6.1.linux --linear chronotype_covar \\\n",
    "  --bfile target_qc_data \\\n",
    "  --pheno binomial_chrono.pheno \\\n",
    "  --covar ldak_covariates.cov \\\n",
    "  --max-threads 8"
   ]
  },
  {
   "cell_type": "code",
   "execution_count": null,
   "metadata": {},
   "outputs": [],
   "source": [
    "./ldak6.1.linux --calc-scores prs_chronotype \\\n",
    "  --bfile target_qc_data \\\n",
    "  --scorefile bayesr.effects.filtered \\\n",
    "  --pheno binomial_chrono.pheno \\\n",
    "  --covar ldak_covariates.cov \\\n",
    "  --coeffsfile chronotype_covar.coeff \\\n",
    "  --keep ids_in_cov.txt \\\n",
    "  --max-threads 8"
   ]
  },
  {
   "cell_type": "code",
   "execution_count": null,
   "metadata": {},
   "outputs": [],
   "source": [
    "./ldak6.1.linux --linear dura_bino_covar \\\n",
    "  --bfile target_qc_data \\\n",
    "  --pheno duration_bino.pheno \\\n",
    "  --covar ldak_covariates.cov \\\n",
    "  --max-threads 8"
   ]
  },
  {
   "cell_type": "code",
   "execution_count": null,
   "metadata": {},
   "outputs": [],
   "source": [
    "./ldak6.1.linux --calc-scores prs_dura_bino \\\n",
    "  --bfile target_qc_data \\\n",
    "  --scorefile bayesr.effects.filtered \\\n",
    "  --pheno duration_bino.pheno \\\n",
    "  --covar ldak_covariates.cov \\\n",
    "  --coeffsfile dura_bino_covar.coeff \\\n",
    "  --keep ids_in_cov.txt \\\n",
    "  --max-threads 8"
   ]
  },
  {
   "cell_type": "code",
   "execution_count": null,
   "metadata": {},
   "outputs": [],
   "source": [
    "./ldak6.1.linux --calc-scores prs_autism \\\n",
    "  --bfile target_qc_data \\\n",
    "  --scorefile bayesr.effects.filtered  \n",
    "  --keep ids_in_cov.txt \\\n",
    "  --max-threads 8\n"
   ]
  }
 ],
 "metadata": {
  "kernelspec": {
   "display_name": "Python 3 (ipykernel)",
   "language": "python",
   "name": "python3"
  }
 },
 "nbformat": 4,
 "nbformat_minor": 2
}
