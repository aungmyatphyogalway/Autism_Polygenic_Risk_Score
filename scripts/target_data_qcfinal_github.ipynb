{
 "cells": [
  {
   "cell_type": "markdown",
   "metadata": {},
   "source": [
    "QC of target data\n",
    "input files -> merged_1_22_data.bed/bim/fam\n",
    "platform- bash/r/python on jupyter notebook of UKB RAP\n",
    "\n",
    "intermediate files -> snps_pass_info_all.txt (INFO score<0.8)\n",
    "\n",
    "output files->"
   ]
  },
  {
   "cell_type": "markdown",
   "metadata": {},
   "source": [
    "Step (1) Sample size"
   ]
  },
  {
   "cell_type": "markdown",
   "metadata": {},
   "source": [
    "Step (2) Genome build"
   ]
  },
  {
   "cell_type": "code",
   "execution_count": null,
   "metadata": {},
   "outputs": [],
   "source": [
    "#Step(3) Remove SNPs with info score <0.8\n",
    "#python\n",
    "!dx download \"project-J0v3JFQJ7Vj18G11pBV099b6:/Bulk/Imputation/UKB imputation from genotype/*.mfi.txt\"\n",
    "\n",
    "#r\n",
    "for (i in 1:22){\n",
    "mfi_chr <- read.table(paste(\"ukb22828_c\", i, \"_b0_v3.mfi.txt\", sep = \"\"), header = F)\n",
    "names(mfi_chr) <- c(\"Alternate_id\",\"RS_id\",\"Position\",\"Allele1\",\"Allele2\",\"MAF\",\"Minor_Allele\",\"Info_score\")\n",
    "snpsPassInfo <- mfi_chr[mfi_chr$Info_score > 0.8,]\n",
    "\n",
    "#bash\n",
    "cat snpsPassInfo_chr*.txt > snps_pass_info_all.txt\n",
    "\n",
    "wc -l snps_pass_info_all.txt\n",
    "#28941271 SNPs  (original 97059328 SNPs)\n",
    "\n",
    "#python\n",
    "!dx upload snps_pass_info_all.txt --path project-J0v3JFQJ7Vj18G11pBV099b6:/aung/\n",
    "\n",
    "\n",
    "\n"
   ]
  },
  {
   "cell_type": "markdown",
   "metadata": {},
   "source": [
    "Install plink "
   ]
  },
  {
   "cell_type": "code",
   "execution_count": null,
   "metadata": {},
   "outputs": [],
   "source": [
    "#bash\n",
    "wget https://s3.amazonaws.com/plink1-assets/plink_linux_x86_64_20210606.zip\n",
    "\n",
    "#python\n",
    "!unzip plink_linux_x86_64_20210606.zip\n",
    "!chmod +x plink\n",
    "!./plink --version"
   ]
  },
  {
   "cell_type": "markdown",
   "metadata": {},
   "source": [
    "Download the files\n"
   ]
  },
  {
   "cell_type": "code",
   "execution_count": null,
   "metadata": {},
   "outputs": [],
   "source": [
    "!dx download \"project-J0v3JFQJ7Vj18G11pBV099b6:/aung/target_data/merged_1_22_data.bim\"\n",
    "!dx download \"project-J0v3JFQJ7Vj18G11pBV099b6:/aung/target_data/merged_1_22_data.fam\"\n",
    "!dx download \"project-J0v3JFQJ7Vj18G11pBV099b6:/aung/target_data/merged_1_22_data.bed\"\n",
    "!dx download \"project-J0v3JFQJ7Vj18G11pBV099b6:/aung/snps_pass_info_all.txt\""
   ]
  },
  {
   "cell_type": "code",
   "execution_count": null,
   "metadata": {},
   "outputs": [],
   "source": [
    "!./plink \\\n",
    "  --bfile merged_1_22_data \\\n",
    "  --extract snps_pass_info_all.txt \\\n",
    "  --make-bed \\\n",
    "  --out data_info08"
   ]
  },
  {
   "cell_type": "markdown",
   "metadata": {},
   "source": [
    "Step(4) Remove missingness"
   ]
  },
  {
   "cell_type": "code",
   "execution_count": null,
   "metadata": {},
   "outputs": [],
   "source": [
    "!./plink --bfile data_info08 --missing --out data_missing"
   ]
  },
  {
   "cell_type": "code",
   "execution_count": null,
   "metadata": {},
   "outputs": [],
   "source": [
    "!./plink \\\n",
    "  --bfile data_info08 \\\n",
    "  --mind 0.01 \\\n",
    "  --make-bed \\\n",
    "  --out data_mind \\\n",
    "  --threads 16 \\\n",
    "  --memory 170000"
   ]
  },
  {
   "cell_type": "code",
   "execution_count": null,
   "metadata": {},
   "outputs": [],
   "source": [
    "./plink \\\n",
    "  --bfile data_mind \\\n",
    "  --geno 0.01 \\\n",
    "  --make-bed \\\n",
    "  --out data_geno \\\n",
    "  --threads 16 \\\n",
    "  --memory 170000\n"
   ]
  },
  {
   "cell_type": "markdown",
   "metadata": {},
   "source": [
    "ambiguous and multiletter alleles SNP IDs"
   ]
  },
  {
   "cell_type": "code",
   "execution_count": null,
   "metadata": {},
   "outputs": [],
   "source": [
    "awk '($5 == \"A\" && $6 == \"T\") || ($5 == \"T\" && $6 == \"A\") || \\\n",
    "     ($5 == \"C\" && $6 == \"G\") || ($5 == \"G\" && $6 == \"C\") || \\\n",
    "     length($5) > 1 || length($6) > 1' \\\n",
    "     data_geno.bim > snps_remove_ambig_multiletter.txt\n",
    "\n",
    "     "
   ]
  },
  {
   "cell_type": "code",
   "execution_count": null,
   "metadata": {},
   "outputs": [],
   "source": [
    "awk '{print $2}' snps_remove_ambig_multiletter.txt > ambiguous_multiletter_snp_ids.txt\n",
    "\n",
    "awk '{print $1, $1}' ambiguous_multiletter_snp_ids.txt > ambi_multilet_snp_ids.txt"
   ]
  },
  {
   "cell_type": "markdown",
   "metadata": {},
   "source": [
    "sex mismatch sample IDs"
   ]
  },
  {
   "cell_type": "code",
   "execution_count": null,
   "metadata": {},
   "outputs": [],
   "source": [
    "#r\n",
    "#create sex_mismatch_ids.txt\n",
    "# Load the participant IDs\n",
    "ids <- read.csv(\"sex_mismatch_data_participant.csv\", header = TRUE)\n",
    "\n",
    "# Assuming the ID column is called \"eid\" (change if it's different)\n",
    "ids_plink <- data.frame(FID = ids$eid, IID = ids$eid)\n",
    "\n",
    "# Save in PLINK format\n",
    "write.table(ids_plink, \"sex_mismatch_ids.txt\",\n",
    "            quote = FALSE, row.names = FALSE, col.names = FALSE, sep = \"\\t\")"
   ]
  },
  {
   "cell_type": "markdown",
   "metadata": {},
   "source": [
    "ancestry/ caucasian control \n"
   ]
  },
  {
   "cell_type": "code",
   "execution_count": null,
   "metadata": {},
   "outputs": [],
   "source": [
    "eth<-read.csv(\"ethnicity.csv\", header = TRUE)\n",
    "eth$FID <- eth$eid\n",
    "eth$IID <- eth$eid\n",
    "eth_out <- eth[, c(\"FID\", \"IID\")]\n",
    "write.table(eth_out, \"ethnicity_ids.txt\", quote = FALSE, row.names = FALSE, col.names = FALSE, sep = \"\\t\")"
   ]
  },
  {
   "cell_type": "markdown",
   "metadata": {},
   "source": [
    "relatedness\n"
   ]
  },
  {
   "cell_type": "code",
   "execution_count": null,
   "metadata": {},
   "outputs": [],
   "source": [
    "rel <- read.table(\"ukb_relate.dat\", header = FALSE)\n",
    "colnames(rel) <- c(\"ID1\", \"ID2\", \"HetHet\", \"IBSO\", \"Kinship\")\n",
    "related <- subset(rel, Kinship > 0.0884)\n",
    "remove_ids <- unique(related$ID2)   # choose one ID from each pair\n",
    "write.table(remove_ids, \"remove_related.txt\", col.names = FALSE, row.names = FALSE, quote = FALSE)\n",
    "\n",
    "\n",
    "second_ids <- read.table(\"remove_related.txt\", header = FALSE)\n",
    "second_ids$V2 <- second_ids$V1  # duplicate as FID and IID\n",
    "write.table(second_ids, \"remove_related_formatted.txt\", col.names = FALSE, row.names = FALSE, quote = FALSE)\n",
    "\n",
    "#bash\n",
    "tail -n +2 remove_related_formatted.txt > remove_related_noheader.txt\n"
   ]
  },
  {
   "cell_type": "markdown",
   "metadata": {},
   "source": [
    "shift work"
   ]
  },
  {
   "cell_type": "code",
   "execution_count": null,
   "metadata": {},
   "outputs": [],
   "source": [
    "shift<-read.csv(\"shift_work_participant.csv\", header = TRUE)\n",
    "shift$FID <- shift$eid\n",
    "shift$IID <- shift$eid\n",
    "shift_out <- shift[, c(\"FID\", \"IID\")]\n",
    "write.table(shift_out, \"shift_worker_ids.txt\", quote = FALSE, row.names = FALSE, col.names = FALSE, sep = \"\\t\")"
   ]
  },
  {
   "cell_type": "markdown",
   "metadata": {},
   "source": [
    "duplicate SNPs\n",
    "fam <- read.table(\"data_geno.fam\", header = FALSE)\n",
    "colnames(fam) <- c(\"FID\", \"IID\", \"PID\", \"MID\", \"Sex\", \"Phenotype\")\n",
    "dup_ids <- fam[duplicated(fam$IID), ]"
   ]
  },
  {
   "cell_type": "code",
   "execution_count": null,
   "metadata": {},
   "outputs": [],
   "source": [
    "!./plink \\\n",
    "  --bfile data_geno \\\n",
    "  --list-duplicate-vars ids-only suppress-first \\\n",
    "  --out dup_vars \\\n",
    "  --threads 32 \\\n",
    "  --memory 320000"
   ]
  },
  {
   "cell_type": "code",
   "execution_count": null,
   "metadata": {},
   "outputs": [],
   "source": [
    "#dulpicate participants\n"
   ]
  },
  {
   "cell_type": "markdown",
   "metadata": {},
   "source": [
    "heterozygosity"
   ]
  },
  {
   "cell_type": "code",
   "execution_count": null,
   "metadata": {},
   "outputs": [],
   "source": [
    "!./plink \\\n",
    "  --bfile data_geno \\\n",
    "  --het \\\n",
    "  --out target_het \\\n",
    "  --threads 32 \\\n",
    "  --memory 320000\n"
   ]
  },
  {
   "cell_type": "code",
   "execution_count": null,
   "metadata": {},
   "outputs": [],
   "source": [
    "#r\n",
    "het <- read.table(\"target_het.het\", header = TRUE)\n",
    "mean_F <- mean(het$F, na.rm = TRUE)\n",
    "sd_F <- sd(het$F, na.rm = TRUE)\n",
    "\n",
    "# Define thresholds\n",
    "lower_bound <- mean_F - 3 * sd_F\n",
    "upper_bound <- mean_F + 3 * sd_F\n",
    "\n",
    "# Flag outliers\n",
    "het$outlier <- het$F < lower_bound | het$F > upper_bound\n",
    "\n",
    "# View summary\n",
    "table(het$outlier)\n"
   ]
  },
  {
   "cell_type": "code",
   "execution_count": null,
   "metadata": {},
   "outputs": [],
   "source": [
    "#r\n",
    "het_outliers <- subset(het, outlier == TRUE)\n",
    "write.table(het_outliers[, c(\"FID\", \"IID\")], \"heterozygosity_outliers.txt\",\n",
    "            row.names = FALSE, col.names = FALSE, quote = FALSE, sep = \"\\t\")"
   ]
  },
  {
   "cell_type": "markdown",
   "metadata": {},
   "source": []
  },
  {
   "cell_type": "code",
   "execution_count": null,
   "metadata": {},
   "outputs": [],
   "source": [
    "!./plink \\\n",
    "  --bfile data_geno \\\n",
    "  --maf 0.005 \\\n",
    "  --hwe 1e-6 \\\n",
    "  --remove data_missing.nosex \\\n",
    "  --remove sex_mismatch_ids.txt \\\n",
    "  --remove remove_related_formatted.txt \\\n",
    "  --remove heterozygosity_outliers.txt \\\n",
    "  --remove shift_worker_ids.txt \\\n",
    "  --keep ethnicity_ids.txt \\\n",
    "  --exclude ambi_multilet_snp_ids.txt \\\n",
    "  --exclude dup_vars.dupvar \\\n",
    "  --make-bed \\\n",
    "  --out target_qc_data \\\n",
    "  --threads 32 \\\n",
    "  --memory 320000\n"
   ]
  },
  {
   "cell_type": "code",
   "execution_count": null,
   "metadata": {},
   "outputs": [],
   "source": [
    "cat data_missing.nosex \\\n",
    "    sex_mismatch_ids.txt \\\n",
    "    remove_related_noheader.txt \\\n",
    "    heterozygosity_outliers.txt \\\n",
    "    shift_worker_ids.txt \\\n",
    "    | sort -u > all_remove_ids.txt\n"
   ]
  },
  {
   "cell_type": "code",
   "execution_count": null,
   "metadata": {},
   "outputs": [],
   "source": [
    "awk '{print $1}' ambi_multilet_snp_ids.txt > ambi_multilet_snp_ids_singlecol.txt\n",
    "\n",
    "cat ambi_multilet_snp_ids_singlecol.txt dup_vars.dupvar | sort -u > all_exclude_snps.txt"
   ]
  },
  {
   "cell_type": "code",
   "execution_count": null,
   "metadata": {},
   "outputs": [],
   "source": [
    "!./plink \\\n",
    "  --bfile data_geno \\\n",
    "  --maf 0.005 \\\n",
    "  --hwe 1e-6 \\\n",
    "  --remove all_remove_ids.txt \\\n",
    "  --exclude all_exclude_snps.txt \\\n",
    "  --make-bed \\\n",
    "  --out target_qc_data \\\n",
    "  --threads 32 \\\n",
    "  --memory 320000\n"
   ]
  },
  {
   "cell_type": "code",
   "execution_count": null,
   "metadata": {},
   "outputs": [],
   "source": [
    "#r\n",
    "fam <- read.table(\"target_qc_data.fam\", header = FALSE,\n",
    "                  colClasses = c(\"NULL\",\"NULL\",\"NULL\",\"NULL\",\"integer\",\"NULL\"))\n",
    "sex <- fam$V5\n",
    "\n",
    "n_male    <- sum(sex == 1, na.rm = TRUE)\n",
    "n_female  <- sum(sex == 2, na.rm = TRUE)\n",
    "n_unknown <- sum(sex == 0 | is.na(sex))\n",
    "\n",
    "cat(sprintf(\"Male: %d\\nFemale: %d\\nUnknown: %d\\nTotal: %d\\n\",\n",
    "            n_male, n_female, n_unknown, length(sex)))\n"
   ]
  },
  {
   "cell_type": "markdown",
   "metadata": {},
   "source": [
    "Male: 182590\n",
    "Female: 217973\n",
    "Unknown: 0\n",
    "Total: 400563"
   ]
  },
  {
   "cell_type": "code",
   "execution_count": null,
   "metadata": {},
   "outputs": [],
   "source": [
    "# from the folder with target_qc_data.{bed,bim,fam}\n",
    "!./plink --bfile target_qc_data --freq --out target_freq --threads 32 --memory 320000\n",
    "# makes target_freq.frq with columns: CHR SNP A1 A2 MAF NCHROBS\n",
    "# (here A1 = minor allele; MAF = freq of A1)\n"
   ]
  },
  {
   "cell_type": "code",
   "execution_count": null,
   "metadata": {},
   "outputs": [],
   "source": [
    "library(data.table)\n",
    "\n",
    "ss  <- fread(\"asd_cojo.txt\")            # columns: SNP A1 A2 freq b SE P N\n",
    "frq <- fread(\"target_freq.frq\")\n",
    "setnames(frq, c(\"CHR\",\"SNP\",\"MINOR\",\"MAJOR\",\"MAF\",\"NCHROBS\"))\n",
    "\n",
    "# ensure consistent case\n",
    "ss[,  c(\"A1\",\"A2\") := .(toupper(A1),  toupper(A2))]\n",
    "frq[, c(\"MINOR\",\"MAJOR\") := .(toupper(MINOR), toupper(MAJOR))]\n",
    "\n",
    "# merge and compute effect-allele frequency\n",
    "ss <- merge(ss, frq[, .(SNP, MINOR, MAJOR, MAF)], by = \"SNP\", all.x = TRUE)\n",
    "\n",
    "# if A1 (effect allele in ss) equals MINOR -> freq = MAF; if equals MAJOR -> freq = 1 - MAF\n",
    "ss[, freq := fifelse(!is.na(MAF) & A1 == MINOR, MAF,\n",
    "              fifelse(!is.na(MAF) & A1 == MAJOR, 1 - MAF, freq))]\n",
    "\n",
    "# optional: write any allele-mismatch rows to inspect\n",
    "bad <- ss[!is.na(MAF) & !(A1 %chin% c(MINOR, MAJOR))]\n",
    "if (nrow(bad)) fwrite(bad, \"allele_mismatch_to_target.tsv\", sep = \"\\t\")\n",
    "\n",
    "# save with same columns/order\n",
    "fwrite(ss[, .(SNP, A1, A2, freq, b, SE, P, N)],\n",
    "       \"asd_cojo.with_target_freq.txt\", sep = \"\\t\", quote = FALSE, na = \"NA\")"
   ]
  }
 ],
 "metadata": {
  "kernelspec": {
   "display_name": "Python 3 (ipykernel)",
   "language": "python",
   "name": "python3"
  }
 },
 "nbformat": 4,
 "nbformat_minor": 2
}
