scripts/mega_prs_final_github.ipynb
{
 "cells": [
  {
   "cell_type": "markdown",
   "metadata": {},
   "source": [
    "QC step of discovery dataset (09082025)\n",
    "required dataset -> asd.qc.gz\n",
    "running platform-> jupyter notebook on UKB RAP\n",
    "output files-> asd_cojo.txt\n",
    "\n"
   ]
  },
  {
   "cell_type": "markdown",
   "metadata": {},
   "source": [
    "Step (1) heritability check\n",
    "This discovery dataset has chip heritability estimate h2snp >0.05. No further need to do heritability check\n",
    " \n"
   ]
  },
  {
   "cell_type": "code",
   "execution_count": null,
   "metadata": {},
   "outputs": [],
   "source": [
    "Step(2) effect allele\n",
    "A1 is the effect allele"
   ]
  },
  {
   "cell_type": "code",
   "execution_count": null,
   "metadata": {},
   "outputs": [],
   "source": [
    "Step(3) Genome build\n",
    "Both discovery dataset and target dataset are GRCh 38."
   ]
  },
  {
   "cell_type": "code",
   "execution_count": null,
   "metadata": {},
   "outputs": [],
   "source": [
    "#download the flie\n",
    "#python\n",
    "!dx download \"project-J0v3JFQJ7Vj18G11pBV099b6:/aung/discovery_data/asd_qc.gz\""
   ]
  },
  {
   "cell_type": "code",
   "execution_count": null,
   "metadata": {},
   "outputs": [],
   "source": [
    "#bash\n",
    "gunzip -c asd_qc.gz | head\n",
    "#count number of SNPs (-1 of column name)\n",
    "zcat asd_qc.gz | wc -l\n",
    "#9,112,386 SNPs\n"
   ]
  },
  {
   "cell_type": "code",
   "execution_count": null,
   "metadata": {},
   "outputs": [],
   "source": [
    "#Step(4) standard gwas qc\n",
    "#to remove INFO < 0.8 and cannot remove MAF (no MAF data)\n",
    "#bash\n",
    "gunzip -c asd_qc.gz |\\\n",
    "awk 'NR==1 || ($6 > 0.8) {print}' |\\\n",
    "gzip  > asd_info.gz"
   ]
  },
  {
   "cell_type": "code",
   "execution_count": null,
   "metadata": {},
   "outputs": [],
   "source": [
    "#count the SNPs\n",
    "zcat asd_info.gz | wc -l\n",
    "#8,479,439 SNPs after removing INFO<0.8"
   ]
  },
  {
   "cell_type": "markdown",
   "metadata": {},
   "source": [
    "Step(5) Mismatching SNPs\n",
    "No need to remove because MegaPRS software solves this"
   ]
  },
  {
   "cell_type": "code",
   "execution_count": null,
   "metadata": {},
   "outputs": [],
   "source": [
    "#Step(6) Duplicate SNPs\n",
    "#bash\n",
    "gunzip -c asd_info.gz |\\\n",
    "awk '{seen[$2]++; if(seen[$2]==1){ print}}' |\\\n",
    "gzip - > asd_nodup.gz\n",
    "#count the SNPs\n",
    "zcat asd_nodup.gz | wc -l\n",
    "#8,479,439 SNPs\n",
    "\n"
   ]
  },
  {
   "cell_type": "code",
   "execution_count": null,
   "metadata": {},
   "outputs": [],
   "source": [
    "#Step(7) Ambiguous SNPs\n",
    "#bash\n",
    "gunzip -c asd_nodup.gz |\\\n",
    "awk '!( ($4==\"A\" && $5==\"T\") || \\\n",
    "        ($4==\"T\" && $5==\"A\") || \\\n",
    "        ($4==\"G\" && $5==\"C\") || \\\n",
    "        ($4==\"C\" && $5==\"G\")) {print}' |\\\n",
    "    gzip > asd_noambi.gz\n",
    "\n",
    "    "
   ]
  },
  {
   "cell_type": "code",
   "execution_count": null,
   "metadata": {},
   "outputs": [],
   "source": [
    "#count the SNPs\n",
    "zcat asd_noambi.gz | wc -l\n",
    "#7,301,380 SNPs\n"
   ]
  },
  {
   "cell_type": "code",
   "execution_count": null,
   "metadata": {},
   "outputs": [],
   "source": [
    "#Step (8) Multi letter alles or indels\n",
    "zcat asd_noambi.gz \\\n",
    "| awk 'NR==1 || (length($4)==1 && length($5)==1 && $4 ~ /^[ACGT]$/ && $5 ~ /^[ACGT]$/)' \\\n",
    "| gzip > asd_snps_only.gz\n"
   ]
  },
  {
   "cell_type": "code",
   "execution_count": null,
   "metadata": {},
   "outputs": [],
   "source": [
    "#count the SNPs\n",
    "zcat asd_snps_only.gz | wc -l\n",
    "#6,355,974 SNPs\n"
   ]
  },
  {
   "cell_type": "code",
   "execution_count": null,
   "metadata": {},
   "outputs": [],
   "source": [
    "#Step (9) sex chromosomes\n",
    "#R\n",
    "chroms <- unique(read.table(gzfile(\"asd_snps_only.gz\"), header = TRUE)$CHR)\n",
    "print(chroms)\n",
    "# 8  2 16  7  6 15 14 12 17  1  3 11 22 20 21  9  4 13  5 10 18 19\n",
    "# no sex chromosomes (X, Y, 23, 24)\n",
    "\n"
   ]
  },
  {
   "cell_type": "markdown",
   "metadata": {},
   "source": [
    "#Step(10) Sample overlap\n",
    "Firstly, there is  no individual ID in the discovery dataset because it is just summary statstic file. Because of the publication, UKB project is not included for discovery dataset. There is no sample overlap."
   ]
  },
  {
   "cell_type": "code",
   "execution_count": null,
   "metadata": {},
   "outputs": [],
   "source": [
    "#Step(11) Check relatedness\n",
    "#R\n",
    "df <- read.table(gzfile(\"asd_snps_only.gz\"), header=TRUE)\n",
    "z  <- log(df$OR)/df$SE                   # for case-control: beta=log(OR), z=beta/SE\n",
    "chisq <- z^2\n",
    "lambda_gc <- median(chisq, na.rm=TRUE)/0.4549364\n",
    "lambda_gc\n",
    "#1.14376227320861\n",
    "\n",
    "worth sanity checks, but not necessarily a show‑stopper for PRS—especially for highly polygenic traits."
   ]
  },
  {
   "cell_type": "code",
   "execution_count": null,
   "metadata": {},
   "outputs": [],
   "source": [
    "#Step(12) change COJO format [allele frequency]\n",
    "#R\n",
    "infile    <- \"asd_snps_only.gz\"   # or \"asd_snps_only.txt\"\n",
    "sample_n  <- 46351 #18,382 cases and 27,969 controls\n",
    "\n",
    "\n",
    "df <- read.table(gzfile(infile), header = TRUE, sep = \"\", quote = \"\", comment.char = \"\")\n",
    "print(head(df))\n",
    "\n",
    "df$b <- if (\"BETA\" %in% names(df)) df$BETA else log(df$OR)\n",
    "df$N <- sample_n\n",
    "# if you don't have allele frequencies yet, set a placeholder (better to merge real A1_FREQ later)\n",
    "df$freq <- 0.5\n",
    "\n",
    "\n",
    "cojo <- df[, c(\"SNP\",\"A1\",\"A2\",\"freq\",\"b\",\"SE\",\"P\",\"N\")]\n",
    "\n",
    "write.table(cojo, \"asd_cojo.txt\", sep = \"\\t\", row.names = FALSE, quote = FALSE)\n",
    "\n",
    "\n"
   ]
  },
  {
   "cell_type": "code",
   "execution_count": null,
   "metadata": {},
   "outputs": [],
   "source": [
    "#save cojo.txt\n",
    "#python\n",
    "!dx upload asd_cojo.txt --path project-J0v3JFQJ7Vj18G11pBV099b6:/aung/discovery_data/"
   ]
  },
  {
   "cell_type": "code",
   "execution_count": null,
   "metadata": {},
   "outputs": [],
   "source": [
    "###create another beta column txt file\n",
    "#r\n",
    "df1 <- read.table(gzfile(\"asd_snps_only.gz\"), header = TRUE)\n",
    "df1$beta <- log(df1$OR)\n",
    "write.table(df1, \"asd_beta.txt\", sep = \"\\t\",row.names = FALSE, quote = FALSE)\n",
    "\n",
    "#python\n",
    "!dx upload asd_beta.txt --path project-J0v3JFQJ7Vj18G11pBV099b6:/aung/discovery_data/\n",
    "\n"
   ]
  }
 ],
 "metadata": {
  "kernelspec": {
   "display_name": "Python 3 (ipykernel)",
   "language": "python",
   "name": "python3"
  }
 },
 "nbformat": 4,
 "nbformat_minor": 2
}
